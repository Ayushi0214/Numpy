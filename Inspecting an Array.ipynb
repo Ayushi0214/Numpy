{
 "cells": [
  {
   "cell_type": "code",
   "execution_count": 29,
   "id": "4b496d15",
   "metadata": {},
   "outputs": [
    {
     "name": "stdout",
     "output_type": "stream",
     "text": [
      "[[30.  40.  40. ]\n",
      " [40.  30.8 10. ]]\n",
      "(2, 3)\n",
      "2\n",
      "6\n",
      "<class 'numpy.ndarray'>\n",
      "float64\n",
      "[[30 40 40]\n",
      " [40 30 10]]\n"
     ]
    }
   ],
   "source": [
    "import numpy as np\n",
    "\n",
    "a = [[30,40,40],[40,30.8,10]]\n",
    "arr = np.array(a)\n",
    "print(arr)\n",
    "print(arr.shape) #rows, columns\n",
    "print(len(arr)) #number of nested values\n",
    "print(np.size(arr)) #number of elements\n",
    "print(type(arr)) #datatype of variable\n",
    "print(arr.dtype) #dataype of array\n",
    "print(arr.astype(int)) #conversion of datatype"
   ]
  }
 ],
 "metadata": {
  "kernelspec": {
   "display_name": "Python 3 (ipykernel)",
   "language": "python",
   "name": "python3"
  },
  "language_info": {
   "codemirror_mode": {
    "name": "ipython",
    "version": 3
   },
   "file_extension": ".py",
   "mimetype": "text/x-python",
   "name": "python",
   "nbconvert_exporter": "python",
   "pygments_lexer": "ipython3",
   "version": "3.11.3"
  }
 },
 "nbformat": 4,
 "nbformat_minor": 5
}
