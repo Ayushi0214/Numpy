{
 "cells": [
  {
   "cell_type": "code",
   "execution_count": 5,
   "id": "0df27050",
   "metadata": {},
   "outputs": [
    {
     "name": "stdout",
     "output_type": "stream",
     "text": [
      "4\n",
      "3\n",
      "5\n"
     ]
    }
   ],
   "source": [
    "#Indexing in 1-D array\n",
    "import numpy as np\n",
    "\n",
    "arr = np.array([2,3,4,5])\n",
    "print(arr[-2])\n",
    "print(arr[1])\n",
    "print(arr[-1])"
   ]
  },
  {
   "cell_type": "code",
   "execution_count": 13,
   "id": "5ad8f993",
   "metadata": {},
   "outputs": [
    {
     "name": "stdout",
     "output_type": "stream",
     "text": [
      "3\n",
      "7\n",
      "8\n"
     ]
    }
   ],
   "source": [
    "#Indexing in 2-D array\n",
    "\n",
    "arr = np.array([[2,3],[7,8]])\n",
    "print(arr[0][1])\n",
    "print(arr[1][0])\n",
    "print(arr[-1][-1])"
   ]
  },
  {
   "cell_type": "code",
   "execution_count": 20,
   "id": "d5d71305",
   "metadata": {},
   "outputs": [
    {
     "name": "stdout",
     "output_type": "stream",
     "text": [
      "5\n",
      "10\n"
     ]
    }
   ],
   "source": [
    "#Indexing in 3-D array\n",
    "\n",
    "arr = np.array([[[3,4],[6,7]],[[5,6],[9,10]]])\n",
    "print(arr[1][0][0])\n",
    "print(arr[-1][-1][-1])\n"
   ]
  }
 ],
 "metadata": {
  "kernelspec": {
   "display_name": "Python 3 (ipykernel)",
   "language": "python",
   "name": "python3"
  },
  "language_info": {
   "codemirror_mode": {
    "name": "ipython",
    "version": 3
   },
   "file_extension": ".py",
   "mimetype": "text/x-python",
   "name": "python",
   "nbconvert_exporter": "python",
   "pygments_lexer": "ipython3",
   "version": "3.11.3"
  }
 },
 "nbformat": 4,
 "nbformat_minor": 5
}
