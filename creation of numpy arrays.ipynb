{
 "cells": [
  {
   "cell_type": "code",
   "execution_count": 6,
   "id": "167ca320",
   "metadata": {},
   "outputs": [
    {
     "name": "stdout",
     "output_type": "stream",
     "text": [
      "[2 3 4 5]\n",
      "<class 'numpy.ndarray'>\n",
      "1\n"
     ]
    }
   ],
   "source": [
    "import numpy as np\n",
    "\n",
    "arr = np.array([2,3,4,5])\n",
    "print(arr)\n",
    "print(type(arr))\n",
    "print(np.ndim(arr)) #ndim = number of dimensions\n",
    "#ndarray = n-dimensional array"
   ]
  },
  {
   "cell_type": "code",
   "execution_count": 5,
   "id": "a97c0e6c",
   "metadata": {},
   "outputs": [
    {
     "name": "stdout",
     "output_type": "stream",
     "text": [
      "[[2 3]\n",
      " [4 5]]\n",
      "2\n"
     ]
    }
   ],
   "source": [
    "arr = np.array([[2,3],[4,5]])\n",
    "print(arr)\n",
    "print(np.ndim(arr)) #ndim = number of dimensions"
   ]
  },
  {
   "cell_type": "code",
   "execution_count": 9,
   "id": "f25f77d9",
   "metadata": {},
   "outputs": [
    {
     "name": "stdout",
     "output_type": "stream",
     "text": [
      "['3' '4' '5' 'True' '6.8']\n"
     ]
    }
   ],
   "source": [
    "arr = np.array([\"3\",4,5,True,6.8, \"hello\"])\n",
    "print(arr)"
   ]
  },
  {
   "cell_type": "code",
   "execution_count": 11,
   "id": "d7682d37",
   "metadata": {},
   "outputs": [
    {
     "name": "stdout",
     "output_type": "stream",
     "text": [
      "[[[20 30]\n",
      "  [40 50]]\n",
      "\n",
      " [[60 70]\n",
      "  [80 90]]]\n",
      "3\n"
     ]
    }
   ],
   "source": [
    "arr = np.array([[[20,30],[40,50]],[[60,70],[80,90]]])\n",
    "print(arr)\n",
    "print(np.ndim(arr))"
   ]
  }
 ],
 "metadata": {
  "kernelspec": {
   "display_name": "Python 3 (ipykernel)",
   "language": "python",
   "name": "python3"
  },
  "language_info": {
   "codemirror_mode": {
    "name": "ipython",
    "version": 3
   },
   "file_extension": ".py",
   "mimetype": "text/x-python",
   "name": "python",
   "nbconvert_exporter": "python",
   "pygments_lexer": "ipython3",
   "version": "3.11.3"
  }
 },
 "nbformat": 4,
 "nbformat_minor": 5
}
